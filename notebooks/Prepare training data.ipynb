{
 "cells": [
  {
   "cell_type": "code",
   "execution_count": 3,
   "metadata": {},
   "outputs": [
    {
     "name": "stdout",
     "output_type": "stream",
     "text": [
      "['headline_text .', 'aba decides against community broadcasting licence .', 'act fire witnesses must be aware of defamation .', 'a g calls for infrastructure protection summit .', 'air nz staff in aust strike for pay rise .', 'air nz strike to affect australian travellers .', 'ambitious olsson wins triple jump .', 'antic delighted with record breaking barca .', 'aussie qualifier stosur wastes four memphis match .', 'aust addresses un security council over iraq .', 'australia is locked into war timetable opp .', 'australia to contribute 10 million in aid to iraq .', 'barca take record as robson celebrates birthday in .', 'bathhouse plans move ahead .', 'big hopes for launceston cycling championship .', 'big plan to boost paroo water supplies .', 'blizzard buries united states in bills .', 'brigadier dismisses reports troops harassed in .', 'british combat troops arriving daily in kuwait .', 'bryant leads lakers to double overtime win .']\n",
      "[['headline_text', '.'], ['community', 'broadcasting', 'licence', '.'], ['aware', 'of', 'defamation', '.'], ['infrastructure', 'protection', 'summit', '.'], ['for', 'pay', 'rise', '.'], ['affect', 'australian', 'travellers', '.'], ['wins', 'triple', 'jump', '.'], ['record', 'breaking', 'barca', '.'], ['four', 'memphis', 'match', '.'], ['council', 'over', 'iraq', '.'], ['war', 'timetable', 'opp', '.'], ['aid', 'to', 'iraq', '.'], ['celebrates', 'birthday', 'in', '.'], ['plans', 'move', 'ahead', '.'], ['launceston', 'cycling', 'championship', '.'], ['paroo', 'water', 'supplies', '.'], ['states', 'in', 'bills', '.'], ['troops', 'harassed', 'in', '.'], ['daily', 'in', 'kuwait', '.'], ['double', 'overtime', 'win', '.']]\n"
     ]
    }
   ],
   "source": [
    "import os\n",
    "from random import shuffle\n",
    "\n",
    "filename = '../tmp/news_data/all_headlines.txt'\n",
    "with open(filename, 'r') as f:\n",
    "    headlines = [headline+' .' for headline in f.read().split('\\n')]\n",
    "    tags = [tag.split()[-4:] for tag in headlines]\n",
    "    print(headlines[:20])\n",
    "    print(tags[:20])\n",
    "    f.close()\n",
    "\n",
    "filename2 = '../tmp/news_data/headlines.txt'\n",
    "with open(filename2, 'w') as f:\n",
    "    for line in headlines:\n",
    "        f.write(line)\n",
    "        f.write('\\n')\n",
    "    f.close()\n",
    "    \n",
    "filename3 = '../tmp/news_data/tags.txt'\n",
    "with open(filename3, 'w') as f:\n",
    "    for line in tags:\n",
    "        f.write(' '.join(line))\n",
    "        f.write('\\n')\n",
    "    f.close()\n",
    "        "
   ]
  },
  {
   "cell_type": "code",
   "execution_count": null,
   "metadata": {},
   "outputs": [],
   "source": []
  },
  {
   "cell_type": "code",
   "execution_count": null,
   "metadata": {},
   "outputs": [],
   "source": []
  }
 ],
 "metadata": {
  "kernelspec": {
   "display_name": "Python 3",
   "language": "python",
   "name": "python3"
  },
  "language_info": {
   "codemirror_mode": {
    "name": "ipython",
    "version": 3
   },
   "file_extension": ".py",
   "mimetype": "text/x-python",
   "name": "python",
   "nbconvert_exporter": "python",
   "pygments_lexer": "ipython3",
   "version": "3.5.4"
  }
 },
 "nbformat": 4,
 "nbformat_minor": 2
}
